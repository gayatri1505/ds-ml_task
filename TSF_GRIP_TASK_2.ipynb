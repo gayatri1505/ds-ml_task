{
  "nbformat": 4,
  "nbformat_minor": 0,
  "metadata": {
    "colab": {
      "name": "TSF GRIP TASK 2.ipynb",
      "provenance": [],
      "authorship_tag": "ABX9TyNMkw+Wq2lvq0WrZkolD3fM",
      "include_colab_link": true
    },
    "kernelspec": {
      "name": "python3",
      "display_name": "Python 3"
    },
    "language_info": {
      "name": "python"
    }
  },
  "cells": [
    {
      "cell_type": "markdown",
      "metadata": {
        "id": "view-in-github",
        "colab_type": "text"
      },
      "source": [
        "<a href=\"https://colab.research.google.com/github/gayatri1505/ds-ml_task/blob/main/TSF_GRIP_TASK_2.ipynb\" target=\"_parent\"><img src=\"https://colab.research.google.com/assets/colab-badge.svg\" alt=\"Open In Colab\"/></a>"
      ]
    },
    {
      "cell_type": "markdown",
      "metadata": {
        "id": "KZ4QNDdo7XKg"
      },
      "source": [
        "Prediction using Unsupervised ML\n"
      ]
    },
    {
      "cell_type": "markdown",
      "metadata": {
        "id": "ddbtH1gZcKSA"
      },
      "source": [
        "From the given ‘Iris’ dataset, predict the optimum number of clusters\n",
        "and represent it visually."
      ]
    },
    {
      "cell_type": "code",
      "metadata": {
        "id": "AROROrPR7YrR"
      },
      "source": [
        "#Importing the libraries:\n",
        "import numpy as np\n",
        "import pandas as pd\n",
        "import matplotlib.pyplot as plt\n",
        "from sklearn import datasets"
      ],
      "execution_count": null,
      "outputs": []
    },
    {
      "cell_type": "code",
      "metadata": {
        "id": "LDomzWf97_YI"
      },
      "source": [
        "#Load the dataset:\n",
        "iris = datasets.load_iris()\n",
        "iris_df = pd.DataFrame(iris.data , columns=iris.feature_names)\n"
      ],
      "execution_count": null,
      "outputs": []
    },
    {
      "cell_type": "code",
      "metadata": {
        "id": "3NvBSbX28wY8"
      },
      "source": [
        "X = iris_df.iloc[:,[0,1,2,3]].values\n",
        "from sklearn.cluster import KMeans\n",
        "w = []\n",
        "for i in range(1,11):\n",
        "  k = KMeans(n_clusters = i, init = 'k-means++', max_iter = 300, n_init = 10, random_state = 0)\n",
        "  k.fit(X)\n",
        "  w.append(k.inertia_)"
      ],
      "execution_count": null,
      "outputs": []
    },
    {
      "cell_type": "code",
      "metadata": {
        "colab": {
          "base_uri": "https://localhost:8080/",
          "height": 279
        },
        "id": "nbWugYc0AEa0",
        "outputId": "e5d290c6-508c-4ac4-a400-60f63ff6564e"
      },
      "source": [
        "#Plotting on Graph:\n",
        "plt.plot(range(1, 11), w)\n",
        "plt.xlabel('Number of clusters')\n",
        "plt.ylabel('WCSS')\n",
        "plt.show()"
      ],
      "execution_count": null,
      "outputs": [
        {
          "output_type": "display_data",
          "data": {
            "image/png": "[encoded data removed]",
            "text/plain": [
              "<Figure size 432x288 with 1 Axes>"
            ]
          },
          "metadata": {
            "tags": [],
            "needs_background": "light"
          }
        }
      ]
    },
    {
      "cell_type": "code",
      "metadata": {
        "id": "xu0p2ApPAiof"
      },
      "source": [
        "#Creating K-means Classifier:\n",
        "kmean = KMeans(n_clusters = 3, init = 'k-means++',max_iter = 300, n_init = 10, random_state = 0)\n",
        "y_kmeans = kmean.fit_predict(X)"
      ],
      "execution_count": null,
      "outputs": []
    },
    {
      "cell_type": "code",
      "metadata": {
        "colab": {
          "base_uri": "https://localhost:8080/",
          "height": 285
        },
        "id": "6GAIoOUCBmD9",
        "outputId": "a328768a-82a8-453b-f797-1f6924b8df69"
      },
      "source": [
        "plt.scatter(X[y_kmeans == 0, 0], X[y_kmeans == 0, 1], s = 50, c = 'red', label = 'Iris-setosa')\n",
        "plt.scatter(X[y_kmeans == 1, 0], X[y_kmeans == 1, 1], s = 50, c = 'black', label = 'Iris-versicolour')\n",
        "plt.scatter(X[y_kmeans == 2, 0], X[y_kmeans == 2, 1], s = 50, c = 'orange', label = 'Iris-virginica')\n",
        "plt.scatter(kmean.cluster_centers_[:, 0], kmean.cluster_centers_[:,1], s = 50, c = 'blue', label = 'Centroids')\n",
        "\n",
        "plt.legend()"
      ],
      "execution_count": null,
      "outputs": [
        {
          "output_type": "execute_result",
          "data": {
            "text/plain": [
              "<matplotlib.legend.Legend at 0x7f56288fded0>"
            ]
          },
          "metadata": {
            "tags": []
          },
          "execution_count": 23
        },
        {
          "output_type": "display_data",
          "data": {
            "image/png": "[encoded data removed]",
            "text/plain": [
              "<Figure size 432x288 with 1 Axes>"
            ]
          },
          "metadata": {
            "tags": [],
            "needs_background": "light"
          }
        }
      ]
    },
    {
      "cell_type": "code",
      "metadata": {
        "id": "8ranJuS6CRx8"
      },
      "source": [
        ""
      ],
      "execution_count": null,
      "outputs": []
    }
  ]
}